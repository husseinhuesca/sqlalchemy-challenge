{
 "cells": [
  {
   "cell_type": "code",
   "execution_count": 1,
   "metadata": {},
   "outputs": [],
   "source": [
    "%matplotlib inline\n",
    "from matplotlib import style\n",
    "style.use('fivethirtyeight')\n",
    "import matplotlib.pyplot as plt"
   ]
  },
  {
   "cell_type": "code",
   "execution_count": 2,
   "metadata": {},
   "outputs": [],
   "source": [
    "import numpy as np\n",
    "import pandas as pd\n",
    "import datetime as dt"
   ]
  },
  {
   "cell_type": "markdown",
   "metadata": {},
   "source": [
    "# Reflect Tables into SQLAlchemy ORM"
   ]
  },
  {
   "cell_type": "code",
   "execution_count": 3,
   "metadata": {},
   "outputs": [],
   "source": [
    "# Python SQL toolkit and Object Relational Mapper\n",
    "import sqlalchemy\n",
    "from sqlalchemy.ext.automap import automap_base\n",
    "from sqlalchemy.orm import Session\n",
    "from sqlalchemy import create_engine, func"
   ]
  },
  {
   "cell_type": "code",
   "execution_count": 4,
   "metadata": {},
   "outputs": [],
   "source": [
    "# create engine to hawaii.sqlite\n",
    "ClimateDBengine = create_engine(\"sqlite:///Resources/hawaii.sqlite\")"
   ]
  },
  {
   "cell_type": "code",
   "execution_count": 5,
   "metadata": {},
   "outputs": [],
   "source": [
    "# reflect an existing database into a new model\n",
    "ClimateDB = automap_base()\n",
    "# reflect the tables\n",
    "ClimateDB.prepare(ClimateDBengine, reflect=True)"
   ]
  },
  {
   "cell_type": "code",
   "execution_count": 6,
   "metadata": {},
   "outputs": [
    {
     "data": {
      "text/plain": [
       "['measurement', 'station']"
      ]
     },
     "execution_count": 6,
     "metadata": {},
     "output_type": "execute_result"
    }
   ],
   "source": [
    "# View all of the classes that automap found\n",
    "ClimateDB.classes.keys()"
   ]
  },
  {
   "cell_type": "code",
   "execution_count": 7,
   "metadata": {},
   "outputs": [],
   "source": [
    "# Save references to each table\n",
    "ClimateDBStation = ClimateDB.classes.station\n",
    "ClimateDBMeasurement = ClimateDB.classes.measurement"
   ]
  },
  {
   "cell_type": "code",
   "execution_count": 8,
   "metadata": {},
   "outputs": [],
   "source": [
    "# Create our session (link) from Python to the DB\n",
    "session = Session(ClimateDBengine)"
   ]
  },
  {
   "cell_type": "markdown",
   "metadata": {},
   "source": [
    "# Exploratory Precipitation Analysis"
   ]
  },
  {
   "cell_type": "code",
   "execution_count": 9,
   "metadata": {},
   "outputs": [
    {
     "name": "stdout",
     "output_type": "stream",
     "text": [
      "Most Recent Date: ('2017-08-23',)\n"
     ]
    }
   ],
   "source": [
    "# Find the most recent date in the data set.\n",
    "datemostrecent = session.query(ClimateDBMeasurement.date).order_by(ClimateDBMeasurement.date.desc()).first()\n",
    "print(\"Most Recent Date: \" + str(datemostrecent))"
   ]
  },
  {
   "cell_type": "code",
   "execution_count": 10,
   "metadata": {
    "scrolled": true
   },
   "outputs": [
    {
     "data": {
      "image/png": "[encoded data removed]",
      "text/plain": [
       "<Figure size 432x288 with 1 Axes>"
      ]
     },
     "metadata": {},
     "output_type": "display_data"
    }
   ],
   "source": [
    "# Design a query to retrieve the last 12 months of precipitation data and plot the results. \n",
    "# Starting from the most recent data point in the database. \n",
    "# Calculate the date one year from the last date in data set.\n",
    "# Perform a query to retrieve the data and precipitation scores\n",
    "mostrecentdata = dt.date(2017,8, 23) - dt.timedelta(days = 365)\n",
    "climateprecip = session.query(ClimateDBMeasurement.date, ClimateDBMeasurement.prcp).filter(ClimateDBMeasurement.date > mostrecentdata).\\\n",
    "order_by(ClimateDBMeasurement.date).all()\n",
    "climateprecip\n",
    "# Save the query results as a Pandas DataFrame and set the index to the date column\n",
    "climateprecipDF = pd.DataFrame(climateprecip)\n",
    "climateprecipDF1 = climateprecipDF.set_index('date')\n",
    "climateprecipDF1\n",
    "# Sort the dataframe by date\n",
    "climateprecipDF2 = climateprecipDF1.sort_index(ascending = True)\n",
    "climateprecipDF2\n",
    "# Use Pandas Plotting with Matplotlib to plot the data\n",
    "plt.plot(climateprecipDF2.index, climateprecipDF2['prcp'], color='green')\n",
    "plt.title('PRCP Analysis from Aug_16 to Aug_17', fontsize=12)\n",
    "plt.xlabel('Date', fontsize=12)\n",
    "plt.ylabel('PRCP', fontsize=12)\n",
    "plt.xticks([])\n",
    "plt.grid(True)"
   ]
  },
  {
   "cell_type": "code",
   "execution_count": 11,
   "metadata": {},
   "outputs": [
    {
     "data": {
      "text/html": [
       "<div>\n",
       "<style scoped>\n",
       "    .dataframe tbody tr th:only-of-type {\n",
       "        vertical-align: middle;\n",
       "    }\n",
       "\n",
       "    .dataframe tbody tr th {\n",
       "        vertical-align: top;\n",
       "    }\n",
       "\n",
       "    .dataframe thead th {\n",
       "        text-align: right;\n",
       "    }\n",
       "</style>\n",
       "<table border=\"1\" class=\"dataframe\">\n",
       "  <thead>\n",
       "    <tr style=\"text-align: right;\">\n",
       "      <th></th>\n",
       "      <th>prcp</th>\n",
       "    </tr>\n",
       "  </thead>\n",
       "  <tbody>\n",
       "    <tr>\n",
       "      <th>count</th>\n",
       "      <td>2015.000000</td>\n",
       "    </tr>\n",
       "    <tr>\n",
       "      <th>mean</th>\n",
       "      <td>0.176462</td>\n",
       "    </tr>\n",
       "    <tr>\n",
       "      <th>std</th>\n",
       "      <td>0.460288</td>\n",
       "    </tr>\n",
       "    <tr>\n",
       "      <th>min</th>\n",
       "      <td>0.000000</td>\n",
       "    </tr>\n",
       "    <tr>\n",
       "      <th>25%</th>\n",
       "      <td>0.000000</td>\n",
       "    </tr>\n",
       "    <tr>\n",
       "      <th>50%</th>\n",
       "      <td>0.020000</td>\n",
       "    </tr>\n",
       "    <tr>\n",
       "      <th>75%</th>\n",
       "      <td>0.130000</td>\n",
       "    </tr>\n",
       "    <tr>\n",
       "      <th>max</th>\n",
       "      <td>6.700000</td>\n",
       "    </tr>\n",
       "  </tbody>\n",
       "</table>\n",
       "</div>"
      ],
      "text/plain": [
       "              prcp\n",
       "count  2015.000000\n",
       "mean      0.176462\n",
       "std       0.460288\n",
       "min       0.000000\n",
       "25%       0.000000\n",
       "50%       0.020000\n",
       "75%       0.130000\n",
       "max       6.700000"
      ]
     },
     "execution_count": 11,
     "metadata": {},
     "output_type": "execute_result"
    }
   ],
   "source": [
    "# Use Pandas to calcualte the summary statistics for the precipitation data\n",
    "climateprecipDF2.describe()"
   ]
  },
  {
   "cell_type": "markdown",
   "metadata": {},
   "source": [
    "# Exploratory Station Analysis"
   ]
  },
  {
   "cell_type": "code",
   "execution_count": 12,
   "metadata": {},
   "outputs": [
    {
     "name": "stdout",
     "output_type": "stream",
     "text": [
      "Total Number Stations: 9\n"
     ]
    }
   ],
   "source": [
    "# Design a query to calculate the total number stations in the dataset\n",
    "TotalNumberStations = session.query(ClimateDBStation).count()\n",
    "print(\"Total Number Stations: \" + str(TotalNumberStations))"
   ]
  },
  {
   "cell_type": "code",
   "execution_count": 13,
   "metadata": {},
   "outputs": [
    {
     "name": "stdout",
     "output_type": "stream",
     "text": [
      "Station: USC00519281 has 2772 rows\n",
      "Station: USC00519397 has 2724 rows\n",
      "Station: USC00513117 has 2709 rows\n",
      "Station: USC00519523 has 2669 rows\n",
      "Station: USC00516128 has 2612 rows\n",
      "Station: USC00514830 has 2202 rows\n",
      "Station: USC00511918 has 1979 rows\n",
      "Station: USC00517948 has 1372 rows\n",
      "Station: USC00518838 has 511 rows\n"
     ]
    }
   ],
   "source": [
    "# Design a query to find the most active stations (i.e. what stations have the most rows?)\n",
    "# List the stations and the counts in descending order.\n",
    "\n",
    "ClimateActiveStations = (session.query(ClimateDBMeasurement.station, \n",
    "                         func.count(ClimateDBMeasurement.station)).\\\n",
    "                         group_by(ClimateDBMeasurement.station).order_by(func.count(ClimateDBMeasurement.station).desc()).all())\n",
    "for cont1, cont2 in ClimateActiveStations:\n",
    "    print(\"Station: \" + cont1 + \" has \" + str(cont2) + \" rows\")"
   ]
  },
  {
   "cell_type": "code",
   "execution_count": 14,
   "metadata": {
    "scrolled": true
   },
   "outputs": [
    {
     "name": "stdout",
     "output_type": "stream",
     "text": [
      "Most Active Station: USC00519281\n",
      "Max Temp: 85.0\n",
      "Min Temp: 54.0\n",
      "Mean Temp: 71.66\n"
     ]
    }
   ],
   "source": [
    "# Using the most active station id from the previous query, calculate the lowest, highest, and average temperature.\n",
    "MostActiveStation = ClimateActiveStations [0][0]\n",
    "MostActiveStation\n",
    "\n",
    "ClimateTobs = (session.query(ClimateDBMeasurement.station, ClimateDBMeasurement.date, ClimateDBMeasurement.tobs).\\\n",
    "    filter(ClimateDBMeasurement.station == MostActiveStation))\n",
    "ClimateTobsDF = pd.DataFrame(ClimateTobs)\n",
    "ClimateTobsDF\n",
    "column = ClimateTobsDF[\"tobs\"]\n",
    "max_value = column.max()\n",
    "min_value = column.min()\n",
    "mean_value = column.mean()\n",
    "\n",
    "print(\"Most Active Station: \" + MostActiveStation)\n",
    "print(\"Max Temp: \" + str(max_value))\n",
    "print(\"Min Temp: \" + str(min_value))\n",
    "print(\"Mean Temp: \" + str(round(mean_value,2)))"
   ]
  },
  {
   "cell_type": "code",
   "execution_count": 15,
   "metadata": {},
   "outputs": [
    {
     "data": {
      "text/plain": [
       "Text(0, 0.5, 'Observations')"
      ]
     },
     "execution_count": 15,
     "metadata": {},
     "output_type": "execute_result"
    },
    {
     "data": {
      "image/png": "[encoded data removed]",
      "text/plain": [
       "<Figure size 432x288 with 1 Axes>"
      ]
     },
     "metadata": {},
     "output_type": "display_data"
    }
   ],
   "source": [
    "# Using the most active station id\n",
    "# Query the last 12 months of temperature observation data for this station and plot the results as a histogram\n",
    "ClimateTobsLastYear = (session.query(ClimateDBMeasurement.station, ClimateDBMeasurement.date, ClimateDBMeasurement.tobs).\\\n",
    "    filter(ClimateDBMeasurement.station == MostActiveStation).\\\n",
    "    filter(ClimateDBMeasurement.date > mostrecentdata).order_by(ClimateDBMeasurement.date).all())                                    \n",
    "ClimateTobsLastYearDF = pd.DataFrame(ClimateTobsLastYear)\n",
    "ClimateTobsLastYearDF\n",
    "\n",
    "ClimateTobsLastYearDF.set_index('date')\n",
    "ClimateTobsLastYearDF.plot.hist(bins = 12, color='green')\n",
    "plt.title(\"Station USC00519281 from Aug_2016 to Aug_2017\")\n",
    "plt.xlabel(\"Temperature\")\n",
    "plt.ylabel(\"Observations\")\n",
    "\n"
   ]
  },
  {
   "cell_type": "code",
   "execution_count": 16,
   "metadata": {},
   "outputs": [],
   "source": [
    "# Close Session\n",
    "session.close()"
   ]
  },
  {
   "cell_type": "code",
   "execution_count": null,
   "metadata": {},
   "outputs": [],
   "source": []
  }
 ],
 "metadata": {
  "kernel_info": {
   "name": "python3"
  },
  "kernelspec": {
   "display_name": "Python 3",
   "language": "python",
   "name": "python3"
  },
  "language_info": {
   "codemirror_mode": {
    "name": "ipython",
    "version": 3
   },
   "file_extension": ".py",
   "mimetype": "text/x-python",
   "name": "python",
   "nbconvert_exporter": "python",
   "pygments_lexer": "ipython3",
   "version": "3.8.5"
  },
  "nteract": {
   "version": "0.12.3"
  },
  "varInspector": {
   "cols": {
    "lenName": 16,
    "lenType": 16,
    "lenVar": 40
   },
   "kernels_config": {
    "python": {
     "delete_cmd_postfix": "",
     "delete_cmd_prefix": "del ",
     "library": "var_list.py",
     "varRefreshCmd": "print(var_dic_list())"
    },
    "r": {
     "delete_cmd_postfix": ") ",
     "delete_cmd_prefix": "rm(",
     "library": "var_list.r",
     "varRefreshCmd": "cat(var_dic_list()) "
    }
   },
   "types_to_exclude": [
    "module",
    "function",
    "builtin_function_or_method",
    "instance",
    "_Feature"
   ],
   "window_display": false
  }
 },
 "nbformat": 4,
 "nbformat_minor": 2
}
